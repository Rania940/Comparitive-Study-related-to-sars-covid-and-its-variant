{
  "cells": [
    {
      "cell_type": "markdown",
      "metadata": {
        "id": "view-in-github"
      },
      "source": [
        "<a href=\"https://colab.research.google.com/github/NouranYoussef/bioinformatics_final/blob/main/bioinformatics_final.ipynb\" target=\"_parent\"><img src=\"https://colab.research.google.com/assets/colab-badge.svg\" alt=\"Open In Colab\"/></a>"
      ]
    },
    {
      "cell_type": "code",
      "execution_count": 117,
      "metadata": {
        "id": "2j5BQ00kHDCU"
      },
      "outputs": [],
      "source": [
        "from Bio import SeqIO\n",
        "from Bio import AlignIO\n",
        "import Bio.Seq\n",
        "import os\n",
        "import pandas as pd\n",
        "import matplotlib.pyplot as plt\n",
        "\n",
        "dir = './sequences/England/'"
      ]
    },
    {
      "cell_type": "code",
      "execution_count": 118,
      "metadata": {
        "id": "fHy-Ek5mY0QQ"
      },
      "outputs": [],
      "source": [
        "def parse_records(dir_='ref'):\n",
        "  files = [file for file in os.listdir(dir+dir_)]\n",
        "\n",
        "  records = []\n",
        "  for file in files:\n",
        "      for record in SeqIO.parse(dir + dir_+'/'+file, format='fasta'):\n",
        "          records.append(record)\n",
        "  return records"
      ]
    },
    {
      "cell_type": "code",
      "execution_count": 119,
      "metadata": {
        "id": "ml_iuHZ6lZGR"
      },
      "outputs": [],
      "source": [
        "def parse_align(path, format='fasta'):\n",
        "    alignments = AlignIO.parse(path, format=format)\n",
        "    for records in alignments:\n",
        "        return records\n"
      ]
    },
    {
      "cell_type": "code",
      "execution_count": 120,
      "metadata": {
        "id": "WxW7IbI0IifO"
      },
      "outputs": [],
      "source": [
        "def chemical_content(seq):\n",
        "    len_seq = len(seq)\n",
        "    \n",
        "    #A,C,G,T,CG counts \n",
        "    A_count = seq.count('A')\n",
        "    C_count = seq.count('C')\n",
        "    G_count = seq.count('G')\n",
        "    T_count = seq.count('T')\n",
        "    CG_count = C_count + G_count\n",
        "    \n",
        "    #percentage of the chemical constituents\n",
        "    A_content= (A_count/len_seq)*100\n",
        "    C_content = (C_count/len_seq)*100\n",
        "    G_content = (G_count/len_seq)*100\n",
        "    T_content = (T_count/len_seq)*100\n",
        "    CG_content = (CG_count/len_seq)*100\n",
        "    \n",
        "    return {'A':A_content,'C':C_content,'G':G_content,'T':T_content,'CG':CG_content}"
      ]
    },
    {
      "cell_type": "code",
      "execution_count": 121,
      "metadata": {},
      "outputs": [],
      "source": [
        "# This function returns IUPAC letter mapping to the probable nucleotides \n",
        "def map_IUPAC(bases):\n",
        "    num = len(bases)\n",
        "    if num == 1:\n",
        "        return bases.pop()\n",
        "    elif num == 2:\n",
        "        if bases == set(['A', 'G']): # A or G\n",
        "            return 'R'\n",
        "        elif bases == set(['T', 'C']):\n",
        "            return 'Y'\n",
        "        elif bases == set(['A', 'C']):\n",
        "            return 'M'        \n",
        "        elif bases == set(['T', 'G']):\n",
        "            return 'K'\n",
        "        elif bases == set(['C', 'G']):\n",
        "            return 'S'\n",
        "        elif bases == set(['A', 'T']):\n",
        "            return 'W'\n",
        "        else:\n",
        "            b = bases.pop()\n",
        "            if b != '-':\n",
        "                return b\n",
        "            else:\n",
        "                return bases.pop()\n",
        "    elif num == 3:\n",
        "        if bases == set(['A', 'C', 'T']): # not G\n",
        "            return 'H'\n",
        "        elif bases == set(['G', 'C', 'T']): # not A\n",
        "            return 'B'        \n",
        "        elif bases == set(['A', 'C', 'G']): # not T\n",
        "            return 'V'        \n",
        "        else: # bases == set(['A', 'G', 'T']): # not C\n",
        "            return 'D' \n",
        "    else: # Any\n",
        "        return 'N'\n",
        "\n",
        "# This function returns a list of the count of each nucleotide at each location\n",
        "def count_bases(records):\n",
        "    base_count = []\n",
        "    for i in range(records.get_alignment_length()):\n",
        "        counts = dict()\n",
        "        for record in records:\n",
        "            counts[record.seq[i]] = counts.get(record.seq[i], 0) + 1\n",
        "        base_count.append(counts)\n",
        "    return base_count   \n"
      ]
    },
    {
      "cell_type": "code",
      "execution_count": 122,
      "metadata": {},
      "outputs": [],
      "source": [
        "# This function chooses the dominant base letter at each location \n",
        "def construct_consensus(records, threshold=0.7):\n",
        "    bases_count = count_bases(records)\n",
        "    num_records = len(records)\n",
        "    consensus = ''\n",
        "    for location in bases_count:\n",
        "        bases = set()\n",
        "        for base in location:\n",
        "            base_percent = location[base]/num_records\n",
        "            if base_percent > threshold:\n",
        "                bases.add(base)\n",
        "\n",
        "        consensus += map_IUPAC(bases)\n",
        "    return consensus "
      ]
    },
    {
      "cell_type": "code",
      "execution_count": 123,
      "metadata": {},
      "outputs": [],
      "source": [
        "def write_consensus(cov_consensus, omicron_consensus, filename):\n",
        "    sequences = cov_records[:2]\n",
        "    sequences[0].seq = cov_consensus\n",
        "    sequences[0].id = 'cov_consensus'\n",
        "    sequences[0].description = 'cov_consensus'\n",
        "    sequences[1].seq = omicron_consensus\n",
        "    sequences[1].id = 'omicron_consensus'\n",
        "    sequences[1].description = 'omicron_consensus'\n",
        "\n",
        "    SeqIO.write(sequences, filename, \"fasta\")\n"
      ]
    },
    {
      "cell_type": "code",
      "execution_count": 124,
      "metadata": {
        "colab": {
          "base_uri": "https://localhost:8080/"
        },
        "id": "7GssvACTmFvt",
        "outputId": "5b9e1358-f05f-43e5-c706-7415cdd6b5bc"
      },
      "outputs": [],
      "source": [
        "# \n",
        "def get_dissimilar_locations(seq1, seq2):\n",
        "    return [i for i in range(len(seq1)) if seq1[i] != seq2[i]]\n",
        "\n",
        "def get_dissimilar_regions(locations):\n",
        "    dissimilar_regions = []\n",
        "    last_region = {'start': locations[0], 'end': locations[0]}\n",
        "    for loc in locations:\n",
        "        if(loc == (last_region['end'] + 1)):\n",
        "            last_region['end'] = loc\n",
        "        else:\n",
        "            if(loc != locations[0]): \n",
        "                dissimilar_regions.append(last_region)\n",
        "            last_region = {'start': loc, 'end': loc}\n",
        "\n",
        "        if(loc == locations[-1]):\n",
        "            dissimilar_regions.append(last_region)\n",
        "\n",
        "    return dissimilar_regions\n"
      ]
    },
    {
      "cell_type": "code",
      "execution_count": 125,
      "metadata": {},
      "outputs": [],
      "source": [
        "def write_regions(regions, path='./Results/',  filename='regions.txt'):\n",
        "    dir = path + filename\n",
        "    with open(dir, 'w') as f:\n",
        "        f.write(\"Aligned consensus sequences length: \"+ str(len(cons_alignment[0].seq) ))\n",
        "        f.write('\\n')\n",
        "        f.write(\"Number of dissimilar regions: \" + str(len(diff_regions)))\n",
        "        f.write('\\n\\n')\n",
        "        f.write(\"Regions:\\n\")\n",
        "        for region in regions:\n",
        "            f.write(\"\\tstart location: \"+str(region['start']))\n",
        "            f.write('\\n')\n",
        "            f.write(\"\\tcovid19:  \"+str(cons_alignment[0].seq[region['start']:region['end']+1]))\n",
        "            f.write('\\n')\n",
        "            f.write(\"\\tomicron:  \"+str(cons_alignment[1].seq[region['start']:region['end']+1]))\n",
        "            f.write('\\n')\n",
        "            f.write(\"\\n\\n\")\n",
        "    f.close()"
      ]
    },
    {
      "cell_type": "code",
      "execution_count": 126,
      "metadata": {},
      "outputs": [],
      "source": [
        "def regions_analysis(regions):\n",
        "    point_mutations_count = 0\n",
        "    point_mutations = {}\n",
        "    short_del = 0\n",
        "    short_insertion = 0\n",
        "    short_del_count = 0\n",
        "    short_insertion_count = 0\n",
        "    short_indel = []\n",
        "    all_percent = 0\n",
        "    other_variants = []\n",
        "    variants_length = 0\n",
        "    print(\"Total number of regions = \" + str(len(regions)))\n",
        "    for region in regions:\n",
        "        all_percent += region['end'] + 1 - region['start'] \n",
        "\n",
        "        # point mutation\n",
        "        if(region['start'] == region['end']): \n",
        "            point_mutations_count +=1\n",
        "            from_base_to_base = cons_alignment[0].seq[region['start']]+\"_\" + cons_alignment[1].seq[region['start']]\n",
        "            point_mutations[from_base_to_base] = point_mutations.get(from_base_to_base, 0) + 1\n",
        "\n",
        "        #short deletion\n",
        "        elif(cons_alignment[0].seq[region['end']:region['end']+1] == '-' and cons_alignment[0].seq[region['start']] == '-'):\n",
        "            short_del += region['end'] + 1 - region['start'] \n",
        "            short_del_count += 1\n",
        "            short_indel.append({'deletion': region})\n",
        "\n",
        "        # short insertion\n",
        "        elif(cons_alignment[1].seq[region['end']:region['end']+1] == '-' and cons_alignment[1].seq[region['start']] == '-'):\n",
        "            short_insertion += region['end'] + 1 - region['start'] \n",
        "            short_insertion_count += 1\n",
        "            short_indel.append({'insertion': region})\n",
        "            # print(cons_alignment[0].seq[region['start']:region['end']+1])\n",
        "            # print(cons_alignment[1].seq[region['start']:region['end']+1])\n",
        "\n",
        "        else:\n",
        "            # print( region['end'] + 1 - region['start'])\n",
        "            variants_length += region['end'] + 1 - region['start'] \n",
        "            other_variants.append(region)\n",
        "\n",
        "    align_length = len(cons_alignment[0].seq) \n",
        "    points_percent = (point_mutations_count/align_length)*100\n",
        "\n",
        "    \n",
        "    print(\"Number of point mutations = \" + str(point_mutations_count))\n",
        "    print(\"Percentage of point mutations = %.2f\" % points_percent + \"%\")\n",
        "\n",
        "    indels_percent = ((short_del+short_insertion)/align_length)*100\n",
        "    # print(\"Number of short inserions = \" + str(short_insertion_count))\n",
        "    # print(\"Number of short deletions = \" + str(short_del_count))\n",
        "    print(\"Number of short indels = \" + str(short_del_count+short_insertion_count))\n",
        "    print(\"Percentage of short indels = %.2f\" %indels_percent + \"%\")\n",
        "\n",
        "    # print(\"Total length of short inserions = \" + str(short_insertion))\n",
        "    # print(\"Total length of short deletions = \" + str(short_del))\n",
        "    # print(\"Total length of short indels = \" + str(short_del + short_insertion))\n",
        "\n",
        "    var_percent = (variants_length/align_length)*100\n",
        "    print(\"Number of other variants = \" + str(len(other_variants)))\n",
        "    print(\"Percentage of other variants = %.2f\" %var_percent + \"%\")\n",
        "\n",
        "\n",
        "\n",
        "    indel_percentages = {'Deletion': (short_del/align_length) *100, \n",
        "                       'Insertion': (short_insertion/align_length) *100}\n",
        "    all_percent = (all_percent/align_length)*100\n",
        "    print(\"Total percentage of dissimilar regions = %.2f\" % all_percent + \"%\")    \n",
        "    # print(\"Total percentage of dissimilar regions = \"+str(indels_percent+var_percent+points_percent)+\"%\")    \n",
        "    \n",
        "    return point_mutations, short_indel, indel_percentages, other_variants"
      ]
    },
    {
      "cell_type": "markdown",
      "metadata": {
        "id": "owZXaetzYvoK"
      },
      "source": [
        "## Read Records"
      ]
    },
    {
      "cell_type": "code",
      "execution_count": 127,
      "metadata": {
        "id": "7SphlJwAhZk5"
      },
      "outputs": [],
      "source": [
        "cov_records = parse_records('ref')\n",
        "omicron_records = parse_records('omicron')\n",
        "# print(omicron_records[0])"
      ]
    },
    {
      "cell_type": "markdown",
      "metadata": {
        "id": "Rmtj7vQ1PNJQ"
      },
      "source": [
        "## Chemical Constituents Contents"
      ]
    },
    {
      "cell_type": "code",
      "execution_count": 128,
      "metadata": {
        "colab": {
          "base_uri": "https://localhost:8080/",
          "height": 270
        },
        "id": "CpA_2OY3S1lL",
        "outputId": "eba80dbd-a554-48a2-d7e7-29ef04a20a79"
      },
      "outputs": [
        {
          "data": {
            "text/html": [
              "<div>\n",
              "<style scoped>\n",
              "    .dataframe tbody tr th:only-of-type {\n",
              "        vertical-align: middle;\n",
              "    }\n",
              "\n",
              "    .dataframe tbody tr th {\n",
              "        vertical-align: top;\n",
              "    }\n",
              "\n",
              "    .dataframe thead th {\n",
              "        text-align: right;\n",
              "    }\n",
              "</style>\n",
              "<table border=\"1\" class=\"dataframe\">\n",
              "  <thead>\n",
              "    <tr style=\"text-align: right;\">\n",
              "      <th></th>\n",
              "      <th>0</th>\n",
              "      <th>1</th>\n",
              "      <th>2</th>\n",
              "      <th>3</th>\n",
              "      <th>4</th>\n",
              "      <th>5</th>\n",
              "      <th>6</th>\n",
              "      <th>7</th>\n",
              "      <th>8</th>\n",
              "      <th>9</th>\n",
              "      <th>avg</th>\n",
              "    </tr>\n",
              "  </thead>\n",
              "  <tbody>\n",
              "    <tr>\n",
              "      <th>A</th>\n",
              "      <td>27.709993</td>\n",
              "      <td>29.469799</td>\n",
              "      <td>29.640719</td>\n",
              "      <td>29.426174</td>\n",
              "      <td>29.941685</td>\n",
              "      <td>29.706634</td>\n",
              "      <td>29.526850</td>\n",
              "      <td>29.387257</td>\n",
              "      <td>29.423025</td>\n",
              "      <td>28.931031</td>\n",
              "      <td>29.316317</td>\n",
              "    </tr>\n",
              "    <tr>\n",
              "      <th>C</th>\n",
              "      <td>17.054889</td>\n",
              "      <td>18.000000</td>\n",
              "      <td>18.155823</td>\n",
              "      <td>17.983221</td>\n",
              "      <td>18.288759</td>\n",
              "      <td>18.190688</td>\n",
              "      <td>18.008899</td>\n",
              "      <td>17.908072</td>\n",
              "      <td>17.943982</td>\n",
              "      <td>17.688367</td>\n",
              "      <td>17.922270</td>\n",
              "    </tr>\n",
              "    <tr>\n",
              "      <th>G</th>\n",
              "      <td>18.221236</td>\n",
              "      <td>19.322148</td>\n",
              "      <td>19.481262</td>\n",
              "      <td>19.312081</td>\n",
              "      <td>19.569006</td>\n",
              "      <td>19.522944</td>\n",
              "      <td>19.374342</td>\n",
              "      <td>19.286658</td>\n",
              "      <td>19.320930</td>\n",
              "      <td>18.984293</td>\n",
              "      <td>19.239490</td>\n",
              "    </tr>\n",
              "    <tr>\n",
              "      <th>T</th>\n",
              "      <td>30.096467</td>\n",
              "      <td>31.701342</td>\n",
              "      <td>31.935006</td>\n",
              "      <td>31.694631</td>\n",
              "      <td>32.153630</td>\n",
              "      <td>32.064998</td>\n",
              "      <td>31.860331</td>\n",
              "      <td>31.704095</td>\n",
              "      <td>31.642934</td>\n",
              "      <td>31.244699</td>\n",
              "      <td>31.609813</td>\n",
              "    </tr>\n",
              "    <tr>\n",
              "      <th>CG</th>\n",
              "      <td>35.276125</td>\n",
              "      <td>37.322148</td>\n",
              "      <td>37.637085</td>\n",
              "      <td>37.295302</td>\n",
              "      <td>37.857765</td>\n",
              "      <td>37.713632</td>\n",
              "      <td>37.383241</td>\n",
              "      <td>37.194730</td>\n",
              "      <td>37.264911</td>\n",
              "      <td>36.672660</td>\n",
              "      <td>37.161760</td>\n",
              "    </tr>\n",
              "  </tbody>\n",
              "</table>\n",
              "</div>"
            ],
            "text/plain": [
              "            0          1          2          3          4          5  \\\n",
              "A   27.709993  29.469799  29.640719  29.426174  29.941685  29.706634   \n",
              "C   17.054889  18.000000  18.155823  17.983221  18.288759  18.190688   \n",
              "G   18.221236  19.322148  19.481262  19.312081  19.569006  19.522944   \n",
              "T   30.096467  31.701342  31.935006  31.694631  32.153630  32.064998   \n",
              "CG  35.276125  37.322148  37.637085  37.295302  37.857765  37.713632   \n",
              "\n",
              "            6          7          8          9        avg  \n",
              "A   29.526850  29.387257  29.423025  28.931031  29.316317  \n",
              "C   18.008899  17.908072  17.943982  17.688367  17.922270  \n",
              "G   19.374342  19.286658  19.320930  18.984293  19.239490  \n",
              "T   31.860331  31.704095  31.642934  31.244699  31.609813  \n",
              "CG  37.383241  37.194730  37.264911  36.672660  37.161760  "
            ]
          },
          "execution_count": 128,
          "metadata": {},
          "output_type": "execute_result"
        }
      ],
      "source": [
        "#construct list of chemical contents dicts\n",
        "content_dicts=[]\n",
        "for record in omicron_records:\n",
        "  content_dicts.append(chemical_content(record.seq))\n",
        "\n",
        "#construct dataframe of the contents and caculate avergae of each chemical constituent content \n",
        "df_omicron = pd.DataFrame.from_dict(content_dicts).T\n",
        "df_omicron['avg'] = df_omicron.mean(axis=1)\n",
        "df_omicron\n"
      ]
    },
    {
      "cell_type": "code",
      "execution_count": 129,
      "metadata": {
        "colab": {
          "base_uri": "https://localhost:8080/",
          "height": 270
        },
        "id": "iq2clV2PZFQd",
        "outputId": "b0b9407d-ea14-4757-af2d-42c0ac1d6383"
      },
      "outputs": [
        {
          "data": {
            "text/html": [
              "<div>\n",
              "<style scoped>\n",
              "    .dataframe tbody tr th:only-of-type {\n",
              "        vertical-align: middle;\n",
              "    }\n",
              "\n",
              "    .dataframe tbody tr th {\n",
              "        vertical-align: top;\n",
              "    }\n",
              "\n",
              "    .dataframe thead th {\n",
              "        text-align: right;\n",
              "    }\n",
              "</style>\n",
              "<table border=\"1\" class=\"dataframe\">\n",
              "  <thead>\n",
              "    <tr style=\"text-align: right;\">\n",
              "      <th></th>\n",
              "      <th>0</th>\n",
              "      <th>1</th>\n",
              "      <th>2</th>\n",
              "      <th>3</th>\n",
              "      <th>4</th>\n",
              "      <th>5</th>\n",
              "      <th>6</th>\n",
              "      <th>7</th>\n",
              "      <th>8</th>\n",
              "      <th>9</th>\n",
              "      <th>avg</th>\n",
              "    </tr>\n",
              "  </thead>\n",
              "  <tbody>\n",
              "    <tr>\n",
              "      <th>A</th>\n",
              "      <td>28.232483</td>\n",
              "      <td>29.864710</td>\n",
              "      <td>29.864710</td>\n",
              "      <td>29.746921</td>\n",
              "      <td>28.239214</td>\n",
              "      <td>29.864710</td>\n",
              "      <td>29.861345</td>\n",
              "      <td>29.857979</td>\n",
              "      <td>29.868076</td>\n",
              "      <td>29.883401</td>\n",
              "      <td>29.528355</td>\n",
              "    </tr>\n",
              "    <tr>\n",
              "      <th>C</th>\n",
              "      <td>17.365552</td>\n",
              "      <td>18.371811</td>\n",
              "      <td>18.378542</td>\n",
              "      <td>18.287676</td>\n",
              "      <td>17.365552</td>\n",
              "      <td>18.371811</td>\n",
              "      <td>18.371811</td>\n",
              "      <td>18.361715</td>\n",
              "      <td>18.375177</td>\n",
              "      <td>18.381023</td>\n",
              "      <td>18.163067</td>\n",
              "    </tr>\n",
              "    <tr>\n",
              "      <th>G</th>\n",
              "      <td>18.472774</td>\n",
              "      <td>19.627112</td>\n",
              "      <td>19.627112</td>\n",
              "      <td>19.549707</td>\n",
              "      <td>18.466043</td>\n",
              "      <td>19.630477</td>\n",
              "      <td>19.627112</td>\n",
              "      <td>19.630477</td>\n",
              "      <td>19.623746</td>\n",
              "      <td>19.620720</td>\n",
              "      <td>19.387528</td>\n",
              "    </tr>\n",
              "    <tr>\n",
              "      <th>T</th>\n",
              "      <td>30.103655</td>\n",
              "      <td>32.136367</td>\n",
              "      <td>32.129636</td>\n",
              "      <td>31.988288</td>\n",
              "      <td>30.103655</td>\n",
              "      <td>32.133001</td>\n",
              "      <td>32.139732</td>\n",
              "      <td>32.149828</td>\n",
              "      <td>32.133001</td>\n",
              "      <td>32.114856</td>\n",
              "      <td>31.713202</td>\n",
              "    </tr>\n",
              "    <tr>\n",
              "      <th>CG</th>\n",
              "      <td>35.838325</td>\n",
              "      <td>37.998923</td>\n",
              "      <td>38.005654</td>\n",
              "      <td>37.837383</td>\n",
              "      <td>35.831595</td>\n",
              "      <td>38.002288</td>\n",
              "      <td>37.998923</td>\n",
              "      <td>37.992192</td>\n",
              "      <td>37.998923</td>\n",
              "      <td>38.001742</td>\n",
              "      <td>37.550595</td>\n",
              "    </tr>\n",
              "  </tbody>\n",
              "</table>\n",
              "</div>"
            ],
            "text/plain": [
              "            0          1          2          3          4          5  \\\n",
              "A   28.232483  29.864710  29.864710  29.746921  28.239214  29.864710   \n",
              "C   17.365552  18.371811  18.378542  18.287676  17.365552  18.371811   \n",
              "G   18.472774  19.627112  19.627112  19.549707  18.466043  19.630477   \n",
              "T   30.103655  32.136367  32.129636  31.988288  30.103655  32.133001   \n",
              "CG  35.838325  37.998923  38.005654  37.837383  35.831595  38.002288   \n",
              "\n",
              "            6          7          8          9        avg  \n",
              "A   29.861345  29.857979  29.868076  29.883401  29.528355  \n",
              "C   18.371811  18.361715  18.375177  18.381023  18.163067  \n",
              "G   19.627112  19.630477  19.623746  19.620720  19.387528  \n",
              "T   32.139732  32.149828  32.133001  32.114856  31.713202  \n",
              "CG  37.998923  37.992192  37.998923  38.001742  37.550595  "
            ]
          },
          "execution_count": 129,
          "metadata": {},
          "output_type": "execute_result"
        }
      ],
      "source": [
        "#construct list of chemical contents dicts\n",
        "content_dicts2=[]\n",
        "for record in cov_records:\n",
        "  content_dicts2.append(chemical_content(record.seq))\n",
        "\n",
        "#construct dataframe of the contents and caculate avergae of each chemical constituent content \n",
        "df_cov = pd.DataFrame.from_dict(content_dicts2).T\n",
        "df_cov['avg'] = df_cov.mean(axis=1)\n",
        "df_cov"
      ]
    },
    {
      "cell_type": "code",
      "execution_count": 130,
      "metadata": {
        "colab": {
          "base_uri": "https://localhost:8080/",
          "height": 301
        },
        "id": "cLmf6LVvSf9a",
        "outputId": "11563c67-5dd5-443d-9e2a-8185ab212ece"
      },
      "outputs": [
        {
          "data": {
            "text/plain": [
              "<AxesSubplot:xlabel='chemical constitute', ylabel='differnece in content %'>"
            ]
          },
          "execution_count": 130,
          "metadata": {},
          "output_type": "execute_result"
        },
        {
          "data": {
            "image/png": "[encoded data removed]",
            "text/plain": [
              "<Figure size 432x288 with 1 Axes>"
            ]
          },
          "metadata": {
            "needs_background": "light"
          },
          "output_type": "display_data"
        }
      ],
      "source": [
        "#differents of contents \n",
        "diff_content = df_cov.avg - df_omicron.avg\n",
        "\n",
        "fig, ax = plt.subplots()\n",
        "ax.set_ylabel(\"differnece in content %\")\n",
        "ax.set_xlabel(\"chemical constitute\")\n",
        "diff_content.plot(kind='bar',ax=ax)"
      ]
    },
    {
      "cell_type": "markdown",
      "metadata": {
        "id": "COiv70G8oz08"
      },
      "source": [
        "## Construct Consensus Sequenses"
      ]
    },
    {
      "cell_type": "code",
      "execution_count": 131,
      "metadata": {},
      "outputs": [],
      "source": [
        "# Read Alignments\n",
        "cov_alignments = parse_align('./sequences/ref_alignment.fas', 'fasta')\n",
        "omicron_alignments = parse_align('./sequences/omicron_alignment.fas', 'fasta')"
      ]
    },
    {
      "cell_type": "code",
      "execution_count": 132,
      "metadata": {},
      "outputs": [
        {
          "name": "stdout",
          "output_type": "stream",
          "text": [
            "29870\n",
            "30217\n"
          ]
        }
      ],
      "source": [
        "cov_consensus = construct_consensus(cov_alignments, threshold=0.5)\n",
        "omicron_consensus = construct_consensus(omicron_alignments, threshold=0.5)\n",
        "\n",
        "print(len(cov_consensus))\n",
        "print(len(omicron_consensus))"
      ]
    },
    {
      "cell_type": "code",
      "execution_count": 140,
      "metadata": {},
      "outputs": [
        {
          "name": "stdout",
          "output_type": "stream",
          "text": [
            "-------------------------------------------------AGATCTGTTCTCTAAACGAACTTTAAAATCTGTGTGGCTGTCACTCGGCTGCATGCTTAGTGCACTCACGCAGTATAATTAATAACTAATTACTGTCGTTGACAGGACACGAGTAACTCGTCTATCTTCTGCAGGCTGCTTACGGTTTCGT\n",
            "AGGTTTATACCTTCCCAGGTAACAAACCAACCAACTTTCGATCTCTTGTAGATCTGTTCTCTAAACGAACTTTAAAATCTGTGTGGCTGTCACTCGGCTGCATGCTTAGTGCACTCACGCAGTATAATTAATAACTAATTACTGTCGTTGACAGGACACGAGTAACTCGTCTATCTTCTGCAGGCTGCTTACGGTTTCGT\n",
            "29870\n"
          ]
        }
      ],
      "source": [
        "# Trying the biopython consensus sequence package to compare\n",
        "from Bio.Align import AlignInfo\n",
        "threshold = 0.7\n",
        "cov_consensus_ = AlignInfo.SummaryInfo(cov_alignments).gap_consensus(ambiguous='N', threshold=threshold)\n",
        "omicron_consensus_ = AlignInfo.SummaryInfo(omicron_alignments).gap_consensus(ambiguous='N', threshold=threshold)\n",
        "\n",
        "cov_consensus_nogaps = AlignInfo.SummaryInfo(cov_alignments).dumb_consensus(ambiguous='N', threshold=threshold)\n",
        "omicron_consensus_nogaps = AlignInfo.SummaryInfo(omicron_alignments).dumb_consensus(ambiguous='N', threshold=threshold)\n",
        "\n",
        "print(cov_consensus_[0:200])\n",
        "print(cov_consensus_nogaps[0:200])\n",
        "# print(len(cov_consensus_))\n",
        "# print(len(omicron_consensus))"
      ]
    },
    {
      "cell_type": "code",
      "execution_count": 134,
      "metadata": {},
      "outputs": [],
      "source": [
        "# Write the two consensus sequences to a fasta file resulting from both methods to pairwise align\n",
        "write_consensus(cov_consensus_, omicron_consensus_, \"consensus_sequenses.fasta\")\n",
        "write_consensus(Bio.Seq.Seq(cov_consensus), Bio.Seq.Seq(omicron_consensus), \"consensus_sequenses2.fasta\")"
      ]
    },
    {
      "cell_type": "markdown",
      "metadata": {},
      "source": [
        "### Comparing the consenus sequence resulted from implemented function with the Biopython package result"
      ]
    },
    {
      "cell_type": "code",
      "execution_count": 143,
      "metadata": {},
      "outputs": [],
      "source": [
        "locs = get_dissimilar_locations(cov_consensus, cov_consensus_)\n",
        "if (locs):\n",
        "    diss_regions = get_dissimilar_regions(locs)\n",
        "    for region in diss_regions:\n",
        "        print(region)\n",
        "        print(cov_consensus[region['start']:region['end']+1]) #implemented result\n",
        "        print(cov_consensus_[region['start']:region['end']+1]) #biopython result"
      ]
    },
    {
      "cell_type": "markdown",
      "metadata": {
        "id": "BwYt9ep9o_YV"
      },
      "source": [
        "## Aligning the reference consensus sequense with the cases consensus sequence"
      ]
    },
    {
      "cell_type": "code",
      "execution_count": 110,
      "metadata": {
        "id": "Je_qWPKgl6ta"
      },
      "outputs": [
        {
          "name": "stdout",
          "output_type": "stream",
          "text": [
            "The length of sequnce alignment: 29796\n"
          ]
        }
      ],
      "source": [
        "# from Bio import pairwise2\n",
        "\n",
        "# cons_alignment = pairwise2.align.globalxx(cov_consensus, omicron_consensus, one_alignment_only=True)\n",
        "\n",
        "# cons_alignment2 = parse_align('./Consensus_alignment.fas') #threshold = 0.7\n",
        "cons_alignment = parse_align('./Consensus_alignment2.fas')\n",
        "\n",
        "print(\"The length of sequnce alignment: \" + str(len(cons_alignment[0])))"
      ]
    },
    {
      "cell_type": "markdown",
      "metadata": {},
      "source": [
        "## Dissimilar Regions"
      ]
    },
    {
      "cell_type": "code",
      "execution_count": 111,
      "metadata": {},
      "outputs": [
        {
          "name": "stdout",
          "output_type": "stream",
          "text": [
            "Number of dissimilar regions: 73\n"
          ]
        }
      ],
      "source": [
        "diff_loc = get_dissimilar_locations(cons_alignment[0].seq, cons_alignment[1].seq) \n",
        "\n",
        "diff_regions = get_dissimilar_regions(diff_loc)\n",
        "\n",
        "\n",
        "print(\"Number of dissimilar regions: \" + str(len(diff_regions)))\n",
        "\n",
        "# Write regions into text file\n",
        "write_regions(diff_regions)"
      ]
    },
    {
      "cell_type": "markdown",
      "metadata": {},
      "source": [
        "## Analyze Dissimilar Regions"
      ]
    },
    {
      "cell_type": "code",
      "execution_count": 112,
      "metadata": {},
      "outputs": [
        {
          "name": "stdout",
          "output_type": "stream",
          "text": [
            "Total number of regions = 73\n",
            "Number of point mutations = 60\n",
            "Percentage of point mutations = 0.20%\n",
            "Number of short indels = 8\n",
            "Percentage of short indels = 0.37%\n",
            "Number of other variants = 5\n",
            "Percentage of other variants = 1.19%\n",
            "Total percentage of dissimilar regions = 1.76%\n"
          ]
        }
      ],
      "source": [
        "point_mutations, short_indel, indel_percentages, other_variants = regions_analysis(diff_regions)"
      ]
    },
    {
      "cell_type": "code",
      "execution_count": 113,
      "metadata": {},
      "outputs": [
        {
          "data": {
            "image/png": "[encoded data removed]",
            "text/plain": [
              "<Figure size 432x288 with 1 Axes>"
            ]
          },
          "metadata": {
            "needs_background": "light"
          },
          "output_type": "display_data"
        }
      ],
      "source": [
        "fig, ax = plt.subplots()\n",
        "ax.set_ylabel(\"Point Mutations Count\")\n",
        "ax.set_xlabel(\"Base Change From Reference to Case Sequenses\")\n",
        "names = []\n",
        "values = []\n",
        "for key, val in point_mutations.items():\n",
        "    names.append(key[0]+ \" to \" + key[2])\n",
        "    values.append(val)\n",
        "\n",
        "plt.bar(range(len(names)), values, tick_label=names, color=(0.2, 0.4, 0.6, 0.6))\n",
        "plt.xticks(rotation=45) \n",
        "\n",
        "plt.show()"
      ]
    },
    {
      "cell_type": "code",
      "execution_count": 114,
      "metadata": {},
      "outputs": [
        {
          "data": {
            "image/png": "[encoded data removed]",
            "text/plain": [
              "<Figure size 432x288 with 1 Axes>"
            ]
          },
          "metadata": {
            "needs_background": "light"
          },
          "output_type": "display_data"
        }
      ],
      "source": [
        "fig, ax = plt.subplots()\n",
        "ax.set_ylabel(\"Point Mutations %\")\n",
        "ax.set_xlabel(\"Base Change\")\n",
        "names = []\n",
        "values = []\n",
        "for key, val in point_mutations.items():\n",
        "    names.append(key[0]+ \" to \" + key[2])\n",
        "    values.append((val/len(cons_alignment[0].seq))*100)\n",
        "\n",
        "plt.bar(range(len(names)), values, tick_label=names, color=(0.2, 0.4, 0.6, 0.6))\n",
        "plt.xticks(rotation=45) \n",
        "\n",
        "plt.show()"
      ]
    },
    {
      "cell_type": "code",
      "execution_count": 115,
      "metadata": {},
      "outputs": [
        {
          "data": {
            "image/png": "[encoded data removed]",
            "text/plain": [
              "<Figure size 432x288 with 1 Axes>"
            ]
          },
          "metadata": {
            "needs_background": "light"
          },
          "output_type": "display_data"
        }
      ],
      "source": [
        "names = []\n",
        "values = []\n",
        "for key,val in indel_percentages.items():\n",
        "    names.append(key) \n",
        "    values.append(val)\n",
        "fig, ax = plt.subplots()\n",
        "ax.set_ylabel(\"Short INDELs %\")\n",
        "\n",
        "plt.bar(range(len(names)), values, tick_label=names, color=['r', 'b'])\n",
        "plt.show()"
      ]
    }
  ],
  "metadata": {
    "colab": {
      "collapsed_sections": [],
      "name": "bioinformatics_final.ipynb",
      "provenance": []
    },
    "interpreter": {
      "hash": "0748ed2f3df13c80117811a9c7e31518bdc88d1eff8a63b64edd84ed94b01375"
    },
    "kernelspec": {
      "display_name": "Python 3.10.4 ('bioinformatics')",
      "language": "python",
      "name": "python3"
    },
    "language_info": {
      "codemirror_mode": {
        "name": "ipython",
        "version": 3
      },
      "file_extension": ".py",
      "mimetype": "text/x-python",
      "name": "python",
      "nbconvert_exporter": "python",
      "pygments_lexer": "ipython3",
      "version": "3.10.4"
    }
  },
  "nbformat": 4,
  "nbformat_minor": 0
}
